{
 "cells": [
  {
   "cell_type": "markdown",
   "id": "27844b2e",
   "metadata": {},
   "source": [
    "# Exploratory Data Analysis on Life Expectancy in Japan"
   ]
  },
  {
   "cell_type": "markdown",
   "id": "20b792c6",
   "metadata": {},
   "source": [
    "## Introduction\n",
    "\n",
    "Japan is known for having one of the highest life expectancies in the world. However, not all of its 47 prefectures show the same longevity rates. This project applies data science techniques to investigate which social, economic, and health-related variables contribute most to these differences.\n",
    "\n",
    "We used Python (Pandas, Seaborn, Matplotlib) to clean, explore, visualize, and analyze the dataset, with the goal of generating insights and recommendations for public health improvement.\n"
   ]
  },
  {
   "cell_type": "markdown",
   "id": "aa5e3271",
   "metadata": {},
   "source": [
    "## Data Loading and Overview"
   ]
  },
  {
   "cell_type": "code",
   "execution_count": null,
   "id": "97996f6a",
   "metadata": {},
   "outputs": [],
   "source": [
    "import pandas as pd\n",
    "import matplotlib.pyplot as plt\n",
    "import seaborn as sns\n",
    "import numpy as np\n",
    "\n",
    "# Dataset loading\n",
    "df = pd.read_csv(\"Japan_life_expectancy.csv\")\n",
    "df.head()"
   ]
  },
  {
   "cell_type": "markdown",
   "id": "63b991bf",
   "metadata": {},
   "source": [
    "## Data Cleaning and Preparation"
   ]
  },
  {
   "cell_type": "code",
   "execution_count": null,
   "id": "f238501c",
   "metadata": {},
   "outputs": [],
   "source": [
    "df.info()\n",
    "df.describe()"
   ]
  },
  {
   "cell_type": "code",
   "execution_count": null,
   "id": "d83a3806",
   "metadata": {},
   "outputs": [],
   "source": [
    "# Renaming columns \n",
    "\n",
    "df.rename(columns={\n",
    "    'Pshic_hosp': 'Psychiatric_hosp',\n",
    "    'Beds_psic': 'Psychiatric_beds',\n",
    "    'Income_per capita': 'Income_per_capita',\n",
    "    'Avg_hours': 'Avg_hours_worked',\n",
    "    'Hospitals': 'Priv_hospitals',\n",
    "    'Educ_exp': 'Education_exp'\n",
    "}, inplace=True)"
   ]
  },
  {
   "cell_type": "code",
   "execution_count": null,
   "id": "7bed9c2f",
   "metadata": {},
   "outputs": [],
   "source": [
    "#removing unnecesary columns \n",
    "df_numerico = df.drop(columns=['Prefecture'])"
   ]
  },
  {
   "cell_type": "markdown",
   "id": "5b63aa4a",
   "metadata": {},
   "source": [
    "## Exploratory Data Analysis (EDA)"
   ]
  },
  {
   "cell_type": "code",
   "execution_count": null,
   "id": "2652ae7f",
   "metadata": {},
   "outputs": [],
   "source": [
    "# Statistical summary\n",
    "\n",
    "media = df_numerico.mean()\n",
    "mediana = df_numerico.median()\n",
    "moda = df_numerico.mode().iloc[0]\n",
    "minimo = df_numerico.min()\n",
    "maximo = df_numerico.max()\n",
    "desv_std = df_numerico.std()\n",
    "varianza = df_numerico.var()\n",
    "rango = maximo - minimo"
   ]
  },
  {
   "cell_type": "code",
   "execution_count": null,
   "id": "88fc68e5",
   "metadata": {},
   "outputs": [],
   "source": [
    "summary = pd.DataFrame({\n",
    "    'Media': media,\n",
    "    'Mediana': mediana,\n",
    "    'Moda': moda,\n",
    "    'Maximo': maximo,\n",
    "    'Minimo': minimo,\n",
    "    'Desviacion Estandar': desv_std,\n",
    "    'Varianza': varianza,\n",
    "    'Rango': rango\n",
    "})\n",
    "\n",
    "\n",
    "# adding borders and styling\n",
    "\n",
    "summary.style.set_table_styles(\n",
    "    [{'selector': 'th, td', 'props': [('border', '1px solid blue')]}]\n",
    ")\n"
   ]
  },
  {
   "cell_type": "markdown",
   "id": "7fb9145b",
   "metadata": {},
   "source": [
    "## Descriptive Analysis"
   ]
  },
  {
   "cell_type": "code",
   "execution_count": null,
   "id": "83c3146a",
   "metadata": {},
   "outputs": [],
   "source": [
    "sns.histplot(df['Welfare_exp'], kde=True, color='skyblue')\n",
    "plt.title('Distribution of public spending on social welfare')\n",
    "plt.ylabel('Frequency')\n",
    "plt.xlabel('Percentage of public expenditure on welfare (%)')\n",
    "plt.show()\n"
   ]
  },
  {
   "cell_type": "code",
   "execution_count": null,
   "id": "5f63a99a",
   "metadata": {},
   "outputs": [],
   "source": [
    "sns.histplot(df['Public_Hosp'], kde=True, color='skyblue')\n",
    "plt.title('Distribution of Public Hospitals in Japan')\n",
    "plt.ylabel('Frecuencia')\n",
    "plt.xlabel('Hospitales Públicos')\n",
    "plt.show()"
   ]
  },
  {
   "cell_type": "code",
   "execution_count": null,
   "id": "d1a94ae6",
   "metadata": {},
   "outputs": [],
   "source": [
    "sns.histplot(df['Life_expectancy'], kde=True, color='skyblue')\n",
    "plt.title('Distribution of Average Life Expectancy')\n",
    "plt.ylabel('Frecuencia')\n",
    "plt.xlabel('Años')\n",
    "plt.show()"
   ]
  },
  {
   "cell_type": "code",
   "execution_count": null,
   "id": "db571e2b",
   "metadata": {},
   "outputs": [],
   "source": [
    "sns.scatterplot(x='Avg_hours_worked', y='Life_expectancy', data=df, color='teal', s=60)\n",
    "plt.title('Relationship between Hours Worked and Life Expectancy')\n",
    "plt.xlabel('Horas promedio trabajadas por semana')\n",
    "plt.ylabel('Expectativa de vida (años)')\n",
    "plt.grid(True)\n",
    "plt.tight_layout()\n",
    "plt.show()"
   ]
  },
  {
   "cell_type": "markdown",
   "id": "c3b5e0ed",
   "metadata": {},
   "source": [
    "## Correlation Analysis"
   ]
  },
  {
   "cell_type": "code",
   "execution_count": null,
   "id": "4a1670ed",
   "metadata": {},
   "outputs": [],
   "source": [
    "sns.scatterplot(x='Health_exp', y='Life_expectancy', data=df, color='seagreen', s=60)\n",
    "plt.title('Relationship between Health Spending and Life Expectancy')\n",
    "plt.xlabel('Gasto público en salud (%)')\n",
    "plt.ylabel('Expectativa de vida (años)')\n",
    "plt.grid(True)\n",
    "plt.tight_layout()\n",
    "plt.show()"
   ]
  },
  {
   "cell_type": "code",
   "execution_count": null,
   "id": "4ba4a8ef",
   "metadata": {},
   "outputs": [],
   "source": [
    "sns.scatterplot(x='Income_per_capita', y='Life_expectancy', data=df, color='royalblue', s=60)\n",
    "plt.title('Relationship between Per Capita Income and Life Expectancy')\n",
    "plt.xlabel('Ingreso per cápita (en yenes)')\n",
    "plt.ylabel('Expectativa de vida (años)')\n",
    "plt.grid(True)\n",
    "plt.tight_layout()\n",
    "plt.show()"
   ]
  },
  {
   "cell_type": "code",
   "execution_count": null,
   "id": "c69e783f",
   "metadata": {},
   "outputs": [],
   "source": [
    "sns.boxplot(x=df['Welfare_exp'], color='lightblue')\n",
    "plt.title('Boxplot of social welfare spending')\n",
    "plt.xlabel('Welfare_exp')\n",
    "plt.show()"
   ]
  },
  {
   "cell_type": "code",
   "execution_count": null,
   "id": "f28c70b4",
   "metadata": {},
   "outputs": [],
   "source": [
    "sns.histplot(df['Education_exp'], kde=True, bins=10, color='lightcoral')\n",
    "plt.title('Distribution of public spending on education')\n",
    "plt.xlabel('gasto público en educación')\n",
    "plt.ylabel('Frecuencia')\n",
    "plt.grid(False)\n",
    "plt.tight_layout()\n",
    "plt.show()"
   ]
  },
  {
   "cell_type": "code",
   "execution_count": null,
   "id": "beb369eb",
   "metadata": {},
   "outputs": [],
   "source": [
    "sns.histplot(df['Salary'], kde=True, bins=10, color='steelblue')\n",
    "plt.title('Average salary distribution')\n",
    "plt.xlabel('Salary')\n",
    "plt.ylabel('Frecuencia')\n",
    "plt.grid(True)\n",
    "plt.tight_layout()\n",
    "plt.show()"
   ]
  },
  {
   "cell_type": "markdown",
   "id": "c958d160",
   "metadata": {},
   "source": [
    "## Predictive Analysis"
   ]
  },
  {
   "cell_type": "code",
   "execution_count": null,
   "id": "891906d1",
   "metadata": {},
   "outputs": [],
   "source": [
    "# Calculate the correlation matrix of all numerical variables.\n",
    "correlaciones = df_numerico.corr()\n",
    "\n",
    "correlacion_con_vida = correlaciones['Life_expectancy'].sort_values(ascending=False)\n",
    "print(correlacion_con_vida)\n"
   ]
  },
  {
   "cell_type": "code",
   "execution_count": null,
   "id": "83a566c3",
   "metadata": {},
   "outputs": [],
   "source": [
    "plt.figure(figsize=(12, 10))\n",
    "sns.heatmap(df_numerico.corr(), annot=True, cmap='coolwarm', fmt=\".2f\")\n",
    "plt.title('Correlation Matrix between Variables')\n",
    "plt.tight_layout()\n",
    "plt.show()"
   ]
  },
  {
   "cell_type": "code",
   "execution_count": null,
   "id": "afd05a37",
   "metadata": {},
   "outputs": [],
   "source": [
    "# Calculation of current averages\n",
    "vida_actual = df['Life_expectancy'].mean()\n",
    "health_exp_actual = df['Health_exp'].mean()\n",
    "income_actual = df['Income_per_capita'].mean()\n",
    "educ_exp_actual = df['Education_exp'].mean()\n",
    "avg_hours_actual = df['Avg_hours_worked'].mean()\n",
    "\n",
    "# Progressive scenario for 2030\n",
    "health_exp_2030 = health_exp_actual * 1.10      # +10%\n",
    "income_2030 = income_actual * 1.15              # +15%\n",
    "educ_exp_2030 = educ_exp_actual * 1.08          # +8%\n",
    "avg_hours_2030 = avg_hours_actual * 0.98        # -2%\n",
    "\n",
    "\n",
    "cor_health = df['Life_expectancy'].corr(df['Health_exp'])\n",
    "cor_income = df['Life_expectancy'].corr(df['Income_per_capita'])\n",
    "cor_educ = df['Life_expectancy'].corr(df['Education_exp'])\n",
    "cor_hours = df['Life_expectancy'].corr(df['Avg_hours_worked'])\n",
    "\n",
    "# Estimated change in Life_expectancy\n",
    "cambio = (\n",
    "    (health_exp_2030 - health_exp_actual) * cor_health +\n",
    "    (income_2030 - income_actual) * cor_income +\n",
    "    (educ_exp_2030 - educ_exp_actual) * cor_educ +\n",
    "    (avg_hours_2030 - avg_hours_actual) * cor_hours\n",
    ")\n",
    "\n",
    "# Projection to 2030\n",
    "vida_2030 = vida_actual + cambio\n",
    "\n",
    "# Results\n",
    "print(\"Expectativa de vida actual:\", round(vida_actual, 2))\n",
    "print(\"Expectativa de vida proyectada para 2030:\", round(vida_2030, 2))"
   ]
  },
  {
   "cell_type": "markdown",
   "id": "cd410489",
   "metadata": {},
   "source": [
    "## Prescriptive Analysis and Recommendations"
   ]
  },
  {
   "cell_type": "code",
   "execution_count": null,
   "id": "690d4e44",
   "metadata": {},
   "outputs": [],
   "source": [
    "# Relative changes (proportional)\n",
    "rel_change_health = 0.10  # +10%\n",
    "rel_change_income = 0.15  # +15%\n",
    "rel_change_educ = 0.08    # +8%\n",
    "rel_change_hours = -0.02  # -2%\n",
    "\n",
    "cambio_normalizado = (\n",
    "    rel_change_health * cor_health +\n",
    "    rel_change_income * cor_income +\n",
    "    rel_change_educ * cor_educ +\n",
    "    rel_change_hours * cor_hours\n",
    ")\n",
    "\n",
    "# We scale the final change to a reasonable range (e.g., 1 life expectancy point)\n",
    "# We assume that a combined correlation change of 1.0 equals 2 additional years of life\n",
    "\n",
    "impacto_esperado = cambio_normalizado * 2\n",
    "\n",
    "vida_2030 = vida_actual + impacto_esperado\n"
   ]
  },
  {
   "cell_type": "code",
   "execution_count": null,
   "id": "de0cc8cf",
   "metadata": {},
   "outputs": [],
   "source": [
    "etiquetas = ['2020', 'Proyección (2030)']\n",
    "valores = [vida_actual, vida_2030]\n",
    "\n",
    "plt.figure(figsize=(6, 4))\n",
    "plt.bar(etiquetas, valores, color=['steelblue', 'mediumseagreen'])\n",
    "plt.ylabel('Expectativa de vida (años)')\n",
    "plt.title('Proyección de Expectativa de Vida en Japón')\n",
    "plt.ylim(min(valores) - 1, max(valores) + 1)\n",
    "plt.grid(axis='y', linestyle='--', alpha=0.5)\n",
    "plt.tight_layout()\n",
    "plt.show()"
   ]
  },
  {
   "cell_type": "code",
   "execution_count": null,
   "id": "028336ec",
   "metadata": {},
   "outputs": [],
   "source": [
    "#  Get the top 5 prefectures with the highest life expectancy\n",
    "top_5 = df.sort_values(by='Life_expectancy', ascending=False).head(5)\n",
    "\n",
    "#  Calculate the national average of health expenditure\n",
    "avg_health_exp = df['Health_exp'].mean()\n",
    "\n",
    "#  Prepare data for the bar chart\n",
    "names = list(top_5['Prefecture']) + ['National Average']\n",
    "values = list(top_5['Health_exp']) + [avg_health_exp]\n",
    "\n",
    "#  Create the bar chart\n",
    "plt.figure(figsize=(10, 5))\n",
    "bars = plt.bar(names, values, color=['seagreen'] * 5 + ['gray'])\n",
    "\n",
    "#  Chart aesthetics\n",
    "plt.title('Health Expenditure in the 5 Prefectures with the Highest Life Expectancy')\n",
    "plt.ylabel('Health Expenditure (%)')\n",
    "plt.xticks(rotation=45)\n",
    "plt.grid(axis='y', linestyle='--', alpha=0.5)\n",
    "\n",
    "# 6. Add value labels on top of each bar\n",
    "for bar in bars:\n",
    "    height = bar.get_height()\n",
    "    plt.text(bar.get_x() + bar.get_width()/2, height + 0.1, round(height, 2), ha='center', va='bottom')\n",
    "\n",
    "plt.tight_layout()\n",
    "plt.show()\n"
   ]
  },
  {
   "cell_type": "markdown",
   "id": "d0cee692",
   "metadata": {},
   "source": [
    "## Conclusion"
   ]
  },
  {
   "cell_type": "markdown",
   "id": "36d37ff2",
   "metadata": {},
   "source": [
    "The analysis revealed clear and measurable relationships between life expectancy and several key factors across Japan’s 47 prefectures:\n",
    "\n",
    "Education: Prefectures with higher percentages of university or technical education (e.g., Nara, Kyoto) showed a strong positive correlation with life expectancy.\n",
    "\n",
    "Income: A moderate positive relationship was found between income per capita and life expectancy, indicating that wealthier regions tend to live longer.\n",
    "\n",
    "Public Health Expenditure: Higher investment in health services was associated with increased longevity. For example, Nara, with the highest life expectancy, also had above-average spending on health (4.06%).\n",
    "\n",
    "Work-Life Balance: Although weaker, there was a negative correlation between average working hours and life expectancy, suggesting that reducing overwork could contribute to longer and healthier lives.\n",
    "\n",
    "A hypothetical scenario simulating modest improvements (e.g., +10% in health spending, +15% in income per capita, -2% in working hours) projected an increase in national life expectancy from 84.53 to approximately 84.8 years by 2030."
   ]
  },
  {
   "cell_type": "markdown",
   "id": "20ebc834",
   "metadata": {},
   "source": [
    "## References"
   ]
  },
  {
   "cell_type": "markdown",
   "id": "0707582f",
   "metadata": {},
   "source": [
    "- [Japan Life Expectancy Dataset - Kaggle](https://www.kaggle.com/datasets/gianinamariapetrascu/japan-life-expectancy)  \n",
    "- DataCamp Resources  \n",
    "- JMP Statistics Knowledge Portal  \n"
   ]
  }
 ],
 "metadata": {
  "language_info": {
   "name": "python"
  }
 },
 "nbformat": 4,
 "nbformat_minor": 5
}
